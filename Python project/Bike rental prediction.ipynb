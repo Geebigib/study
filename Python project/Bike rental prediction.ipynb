{
 "cells": [
  {
   "cell_type": "code",
   "execution_count": 1,
   "id": "dcbe7598",
   "metadata": {},
   "outputs": [],
   "source": [
    "import numpy as np\n",
    "import pandas as pd\n",
    "import matplotlib.pyplot as plt\n",
    "from sklearn.model_selection import train_test_split\n",
    "from sklearn.metrics import mean_squared_error,r2_score\n",
    "%matplotlib inline"
   ]
  },
  {
   "cell_type": "code",
   "execution_count": 2,
   "id": "a1b10a1f",
   "metadata": {},
   "outputs": [],
   "source": [
    "data = pd.read_csv(\"coursework_other.csv\", encoding= 'unicode_escape')"
   ]
  },
  {
   "cell_type": "code",
   "execution_count": 3,
   "id": "cb4b4e70",
   "metadata": {},
   "outputs": [
    {
     "data": {
      "text/html": [
       "<div>\n",
       "<style scoped>\n",
       "    .dataframe tbody tr th:only-of-type {\n",
       "        vertical-align: middle;\n",
       "    }\n",
       "\n",
       "    .dataframe tbody tr th {\n",
       "        vertical-align: top;\n",
       "    }\n",
       "\n",
       "    .dataframe thead th {\n",
       "        text-align: right;\n",
       "    }\n",
       "</style>\n",
       "<table border=\"1\" class=\"dataframe\">\n",
       "  <thead>\n",
       "    <tr style=\"text-align: right;\">\n",
       "      <th></th>\n",
       "      <th>Date</th>\n",
       "      <th>Rented Bike Count</th>\n",
       "      <th>Hour</th>\n",
       "      <th>Temperature(°C)</th>\n",
       "      <th>Humidity(%)</th>\n",
       "      <th>Wind speed (m/s)</th>\n",
       "      <th>Visibility (10m)</th>\n",
       "      <th>Dew point temperature(°C)</th>\n",
       "      <th>Solar Radiation (MJ/m2)</th>\n",
       "      <th>Rainfall(mm)</th>\n",
       "      <th>Snowfall (cm)</th>\n",
       "      <th>Seasons</th>\n",
       "      <th>Holiday</th>\n",
       "      <th>Functioning Day</th>\n",
       "    </tr>\n",
       "  </thead>\n",
       "  <tbody>\n",
       "    <tr>\n",
       "      <th>8755</th>\n",
       "      <td>30/11/2018</td>\n",
       "      <td>1003</td>\n",
       "      <td>19</td>\n",
       "      <td>4.2</td>\n",
       "      <td>34</td>\n",
       "      <td>2.6</td>\n",
       "      <td>1894</td>\n",
       "      <td>-10.3</td>\n",
       "      <td>0.0</td>\n",
       "      <td>0.0</td>\n",
       "      <td>0.0</td>\n",
       "      <td>Autumn</td>\n",
       "      <td>No Holiday</td>\n",
       "      <td>Yes</td>\n",
       "    </tr>\n",
       "    <tr>\n",
       "      <th>8756</th>\n",
       "      <td>30/11/2018</td>\n",
       "      <td>764</td>\n",
       "      <td>20</td>\n",
       "      <td>3.4</td>\n",
       "      <td>37</td>\n",
       "      <td>2.3</td>\n",
       "      <td>2000</td>\n",
       "      <td>-9.9</td>\n",
       "      <td>0.0</td>\n",
       "      <td>0.0</td>\n",
       "      <td>0.0</td>\n",
       "      <td>Autumn</td>\n",
       "      <td>No Holiday</td>\n",
       "      <td>Yes</td>\n",
       "    </tr>\n",
       "    <tr>\n",
       "      <th>8757</th>\n",
       "      <td>30/11/2018</td>\n",
       "      <td>694</td>\n",
       "      <td>21</td>\n",
       "      <td>2.6</td>\n",
       "      <td>39</td>\n",
       "      <td>0.3</td>\n",
       "      <td>1968</td>\n",
       "      <td>-9.9</td>\n",
       "      <td>0.0</td>\n",
       "      <td>0.0</td>\n",
       "      <td>0.0</td>\n",
       "      <td>Autumn</td>\n",
       "      <td>No Holiday</td>\n",
       "      <td>Yes</td>\n",
       "    </tr>\n",
       "    <tr>\n",
       "      <th>8758</th>\n",
       "      <td>30/11/2018</td>\n",
       "      <td>712</td>\n",
       "      <td>22</td>\n",
       "      <td>2.1</td>\n",
       "      <td>41</td>\n",
       "      <td>1.0</td>\n",
       "      <td>1859</td>\n",
       "      <td>-9.8</td>\n",
       "      <td>0.0</td>\n",
       "      <td>0.0</td>\n",
       "      <td>0.0</td>\n",
       "      <td>Autumn</td>\n",
       "      <td>No Holiday</td>\n",
       "      <td>Yes</td>\n",
       "    </tr>\n",
       "    <tr>\n",
       "      <th>8759</th>\n",
       "      <td>30/11/2018</td>\n",
       "      <td>584</td>\n",
       "      <td>23</td>\n",
       "      <td>1.9</td>\n",
       "      <td>43</td>\n",
       "      <td>1.3</td>\n",
       "      <td>1909</td>\n",
       "      <td>-9.3</td>\n",
       "      <td>0.0</td>\n",
       "      <td>0.0</td>\n",
       "      <td>0.0</td>\n",
       "      <td>Autumn</td>\n",
       "      <td>No Holiday</td>\n",
       "      <td>Yes</td>\n",
       "    </tr>\n",
       "  </tbody>\n",
       "</table>\n",
       "</div>"
      ],
      "text/plain": [
       "            Date  Rented Bike Count  Hour  Temperature(°C)  Humidity(%)  \\\n",
       "8755  30/11/2018               1003    19              4.2           34   \n",
       "8756  30/11/2018                764    20              3.4           37   \n",
       "8757  30/11/2018                694    21              2.6           39   \n",
       "8758  30/11/2018                712    22              2.1           41   \n",
       "8759  30/11/2018                584    23              1.9           43   \n",
       "\n",
       "      Wind speed (m/s)  Visibility (10m)  Dew point temperature(°C)  \\\n",
       "8755               2.6              1894                      -10.3   \n",
       "8756               2.3              2000                       -9.9   \n",
       "8757               0.3              1968                       -9.9   \n",
       "8758               1.0              1859                       -9.8   \n",
       "8759               1.3              1909                       -9.3   \n",
       "\n",
       "      Solar Radiation (MJ/m2)  Rainfall(mm)  Snowfall (cm) Seasons  \\\n",
       "8755                      0.0           0.0            0.0  Autumn   \n",
       "8756                      0.0           0.0            0.0  Autumn   \n",
       "8757                      0.0           0.0            0.0  Autumn   \n",
       "8758                      0.0           0.0            0.0  Autumn   \n",
       "8759                      0.0           0.0            0.0  Autumn   \n",
       "\n",
       "         Holiday Functioning Day  \n",
       "8755  No Holiday             Yes  \n",
       "8756  No Holiday             Yes  \n",
       "8757  No Holiday             Yes  \n",
       "8758  No Holiday             Yes  \n",
       "8759  No Holiday             Yes  "
      ]
     },
     "execution_count": 3,
     "metadata": {},
     "output_type": "execute_result"
    }
   ],
   "source": [
    "data.tail(5)"
   ]
  },
  {
   "cell_type": "code",
   "execution_count": 4,
   "id": "9863645f",
   "metadata": {},
   "outputs": [
    {
     "data": {
      "text/plain": [
       "Date                         0\n",
       "Rented Bike Count            0\n",
       "Hour                         0\n",
       "Temperature(°C)              0\n",
       "Humidity(%)                  0\n",
       "Wind speed (m/s)             0\n",
       "Visibility (10m)             0\n",
       "Dew point temperature(°C)    0\n",
       "Solar Radiation (MJ/m2)      0\n",
       "Rainfall(mm)                 0\n",
       "Snowfall (cm)                0\n",
       "Seasons                      0\n",
       "Holiday                      0\n",
       "Functioning Day              0\n",
       "dtype: int64"
      ]
     },
     "execution_count": 4,
     "metadata": {},
     "output_type": "execute_result"
    }
   ],
   "source": [
    "data.isnull().sum()"
   ]
  },
  {
   "cell_type": "code",
   "execution_count": 5,
   "id": "e354e32b",
   "metadata": {},
   "outputs": [
    {
     "data": {
      "text/plain": [
       "Date                          object\n",
       "Rented Bike Count              int64\n",
       "Hour                           int64\n",
       "Temperature(°C)              float64\n",
       "Humidity(%)                    int64\n",
       "Wind speed (m/s)             float64\n",
       "Visibility (10m)               int64\n",
       "Dew point temperature(°C)    float64\n",
       "Solar Radiation (MJ/m2)      float64\n",
       "Rainfall(mm)                 float64\n",
       "Snowfall (cm)                float64\n",
       "Seasons                       object\n",
       "Holiday                       object\n",
       "Functioning Day               object\n",
       "dtype: object"
      ]
     },
     "execution_count": 5,
     "metadata": {},
     "output_type": "execute_result"
    }
   ],
   "source": [
    "data.dtypes"
   ]
  },
  {
   "cell_type": "code",
   "execution_count": 6,
   "id": "9af01348",
   "metadata": {},
   "outputs": [
    {
     "data": {
      "text/plain": [
       "(8760, 14)"
      ]
     },
     "execution_count": 6,
     "metadata": {},
     "output_type": "execute_result"
    }
   ],
   "source": [
    "data.shape"
   ]
  },
  {
   "cell_type": "code",
   "execution_count": 7,
   "id": "3cb7d419-3188-4d31-b3f4-bacf9c0c5649",
   "metadata": {},
   "outputs": [
    {
     "data": {
      "text/html": [
       "<div>\n",
       "<style scoped>\n",
       "    .dataframe tbody tr th:only-of-type {\n",
       "        vertical-align: middle;\n",
       "    }\n",
       "\n",
       "    .dataframe tbody tr th {\n",
       "        vertical-align: top;\n",
       "    }\n",
       "\n",
       "    .dataframe thead th {\n",
       "        text-align: right;\n",
       "    }\n",
       "</style>\n",
       "<table border=\"1\" class=\"dataframe\">\n",
       "  <thead>\n",
       "    <tr style=\"text-align: right;\">\n",
       "      <th></th>\n",
       "      <th>Rented Bike Count</th>\n",
       "      <th>Hour</th>\n",
       "      <th>Temperature(°C)</th>\n",
       "      <th>Humidity(%)</th>\n",
       "      <th>Wind speed (m/s)</th>\n",
       "      <th>Visibility (10m)</th>\n",
       "      <th>Dew point temperature(°C)</th>\n",
       "      <th>Solar Radiation (MJ/m2)</th>\n",
       "      <th>Rainfall(mm)</th>\n",
       "      <th>Snowfall (cm)</th>\n",
       "    </tr>\n",
       "  </thead>\n",
       "  <tbody>\n",
       "    <tr>\n",
       "      <th>count</th>\n",
       "      <td>8760.000000</td>\n",
       "      <td>8760.000000</td>\n",
       "      <td>8760.000000</td>\n",
       "      <td>8760.000000</td>\n",
       "      <td>8760.000000</td>\n",
       "      <td>8760.000000</td>\n",
       "      <td>8760.000000</td>\n",
       "      <td>8760.000000</td>\n",
       "      <td>8760.000000</td>\n",
       "      <td>8760.000000</td>\n",
       "    </tr>\n",
       "    <tr>\n",
       "      <th>mean</th>\n",
       "      <td>704.602055</td>\n",
       "      <td>11.500000</td>\n",
       "      <td>12.882922</td>\n",
       "      <td>58.226256</td>\n",
       "      <td>1.724909</td>\n",
       "      <td>1436.825799</td>\n",
       "      <td>4.073813</td>\n",
       "      <td>0.569111</td>\n",
       "      <td>0.148687</td>\n",
       "      <td>0.075068</td>\n",
       "    </tr>\n",
       "    <tr>\n",
       "      <th>std</th>\n",
       "      <td>644.997468</td>\n",
       "      <td>6.922582</td>\n",
       "      <td>11.944825</td>\n",
       "      <td>20.362413</td>\n",
       "      <td>1.036300</td>\n",
       "      <td>608.298712</td>\n",
       "      <td>13.060369</td>\n",
       "      <td>0.868746</td>\n",
       "      <td>1.128193</td>\n",
       "      <td>0.436746</td>\n",
       "    </tr>\n",
       "    <tr>\n",
       "      <th>min</th>\n",
       "      <td>0.000000</td>\n",
       "      <td>0.000000</td>\n",
       "      <td>-17.800000</td>\n",
       "      <td>0.000000</td>\n",
       "      <td>0.000000</td>\n",
       "      <td>27.000000</td>\n",
       "      <td>-30.600000</td>\n",
       "      <td>0.000000</td>\n",
       "      <td>0.000000</td>\n",
       "      <td>0.000000</td>\n",
       "    </tr>\n",
       "    <tr>\n",
       "      <th>25%</th>\n",
       "      <td>191.000000</td>\n",
       "      <td>5.750000</td>\n",
       "      <td>3.500000</td>\n",
       "      <td>42.000000</td>\n",
       "      <td>0.900000</td>\n",
       "      <td>940.000000</td>\n",
       "      <td>-4.700000</td>\n",
       "      <td>0.000000</td>\n",
       "      <td>0.000000</td>\n",
       "      <td>0.000000</td>\n",
       "    </tr>\n",
       "    <tr>\n",
       "      <th>50%</th>\n",
       "      <td>504.500000</td>\n",
       "      <td>11.500000</td>\n",
       "      <td>13.700000</td>\n",
       "      <td>57.000000</td>\n",
       "      <td>1.500000</td>\n",
       "      <td>1698.000000</td>\n",
       "      <td>5.100000</td>\n",
       "      <td>0.010000</td>\n",
       "      <td>0.000000</td>\n",
       "      <td>0.000000</td>\n",
       "    </tr>\n",
       "    <tr>\n",
       "      <th>75%</th>\n",
       "      <td>1065.250000</td>\n",
       "      <td>17.250000</td>\n",
       "      <td>22.500000</td>\n",
       "      <td>74.000000</td>\n",
       "      <td>2.300000</td>\n",
       "      <td>2000.000000</td>\n",
       "      <td>14.800000</td>\n",
       "      <td>0.930000</td>\n",
       "      <td>0.000000</td>\n",
       "      <td>0.000000</td>\n",
       "    </tr>\n",
       "    <tr>\n",
       "      <th>max</th>\n",
       "      <td>3556.000000</td>\n",
       "      <td>23.000000</td>\n",
       "      <td>39.400000</td>\n",
       "      <td>98.000000</td>\n",
       "      <td>7.400000</td>\n",
       "      <td>2000.000000</td>\n",
       "      <td>27.200000</td>\n",
       "      <td>3.520000</td>\n",
       "      <td>35.000000</td>\n",
       "      <td>8.800000</td>\n",
       "    </tr>\n",
       "  </tbody>\n",
       "</table>\n",
       "</div>"
      ],
      "text/plain": [
       "       Rented Bike Count         Hour  Temperature(°C)  Humidity(%)  \\\n",
       "count        8760.000000  8760.000000      8760.000000  8760.000000   \n",
       "mean          704.602055    11.500000        12.882922    58.226256   \n",
       "std           644.997468     6.922582        11.944825    20.362413   \n",
       "min             0.000000     0.000000       -17.800000     0.000000   \n",
       "25%           191.000000     5.750000         3.500000    42.000000   \n",
       "50%           504.500000    11.500000        13.700000    57.000000   \n",
       "75%          1065.250000    17.250000        22.500000    74.000000   \n",
       "max          3556.000000    23.000000        39.400000    98.000000   \n",
       "\n",
       "       Wind speed (m/s)  Visibility (10m)  Dew point temperature(°C)  \\\n",
       "count       8760.000000       8760.000000                8760.000000   \n",
       "mean           1.724909       1436.825799                   4.073813   \n",
       "std            1.036300        608.298712                  13.060369   \n",
       "min            0.000000         27.000000                 -30.600000   \n",
       "25%            0.900000        940.000000                  -4.700000   \n",
       "50%            1.500000       1698.000000                   5.100000   \n",
       "75%            2.300000       2000.000000                  14.800000   \n",
       "max            7.400000       2000.000000                  27.200000   \n",
       "\n",
       "       Solar Radiation (MJ/m2)  Rainfall(mm)  Snowfall (cm)  \n",
       "count              8760.000000   8760.000000    8760.000000  \n",
       "mean                  0.569111      0.148687       0.075068  \n",
       "std                   0.868746      1.128193       0.436746  \n",
       "min                   0.000000      0.000000       0.000000  \n",
       "25%                   0.000000      0.000000       0.000000  \n",
       "50%                   0.010000      0.000000       0.000000  \n",
       "75%                   0.930000      0.000000       0.000000  \n",
       "max                   3.520000     35.000000       8.800000  "
      ]
     },
     "execution_count": 7,
     "metadata": {},
     "output_type": "execute_result"
    }
   ],
   "source": [
    "data.describe()"
   ]
  },
  {
   "cell_type": "code",
   "execution_count": 8,
   "id": "1b75040a",
   "metadata": {},
   "outputs": [],
   "source": [
    "#predict column Rented Bike Count\n",
    "X = data.drop(['Rented Bike Count'], axis=1)\n",
    "y = data['Rented Bike Count']"
   ]
  },
  {
   "cell_type": "code",
   "execution_count": 9,
   "id": "d7f2be94",
   "metadata": {},
   "outputs": [],
   "source": [
    "#convert category data in to numberical value\n",
    "from sklearn import preprocessing\n",
    "le = preprocessing.LabelEncoder()\n",
    "X['Date'] = le.fit_transform(X['Date'])\n",
    "X['Seasons'] = le.fit_transform(X['Seasons'])\n",
    "X['Holiday'] = le.fit_transform(X['Holiday'])\n",
    "X['Functioning Day'] = le.fit_transform(X['Functioning Day'])"
   ]
  },
  {
   "cell_type": "code",
   "execution_count": 10,
   "id": "64903004",
   "metadata": {},
   "outputs": [
    {
     "data": {
      "text/html": [
       "<div>\n",
       "<style scoped>\n",
       "    .dataframe tbody tr th:only-of-type {\n",
       "        vertical-align: middle;\n",
       "    }\n",
       "\n",
       "    .dataframe tbody tr th {\n",
       "        vertical-align: top;\n",
       "    }\n",
       "\n",
       "    .dataframe thead th {\n",
       "        text-align: right;\n",
       "    }\n",
       "</style>\n",
       "<table border=\"1\" class=\"dataframe\">\n",
       "  <thead>\n",
       "    <tr style=\"text-align: right;\">\n",
       "      <th></th>\n",
       "      <th>Date</th>\n",
       "      <th>Hour</th>\n",
       "      <th>Temperature(°C)</th>\n",
       "      <th>Humidity(%)</th>\n",
       "      <th>Wind speed (m/s)</th>\n",
       "      <th>Visibility (10m)</th>\n",
       "      <th>Dew point temperature(°C)</th>\n",
       "      <th>Solar Radiation (MJ/m2)</th>\n",
       "      <th>Rainfall(mm)</th>\n",
       "      <th>Snowfall (cm)</th>\n",
       "      <th>Seasons</th>\n",
       "      <th>Holiday</th>\n",
       "      <th>Functioning Day</th>\n",
       "    </tr>\n",
       "  </thead>\n",
       "  <tbody>\n",
       "    <tr>\n",
       "      <th>0</th>\n",
       "      <td>11</td>\n",
       "      <td>0</td>\n",
       "      <td>-5.2</td>\n",
       "      <td>37</td>\n",
       "      <td>2.2</td>\n",
       "      <td>2000</td>\n",
       "      <td>-17.6</td>\n",
       "      <td>0.0</td>\n",
       "      <td>0.0</td>\n",
       "      <td>0.0</td>\n",
       "      <td>3</td>\n",
       "      <td>1</td>\n",
       "      <td>1</td>\n",
       "    </tr>\n",
       "    <tr>\n",
       "      <th>1</th>\n",
       "      <td>11</td>\n",
       "      <td>1</td>\n",
       "      <td>-5.5</td>\n",
       "      <td>38</td>\n",
       "      <td>0.8</td>\n",
       "      <td>2000</td>\n",
       "      <td>-17.6</td>\n",
       "      <td>0.0</td>\n",
       "      <td>0.0</td>\n",
       "      <td>0.0</td>\n",
       "      <td>3</td>\n",
       "      <td>1</td>\n",
       "      <td>1</td>\n",
       "    </tr>\n",
       "    <tr>\n",
       "      <th>2</th>\n",
       "      <td>11</td>\n",
       "      <td>2</td>\n",
       "      <td>-6.0</td>\n",
       "      <td>39</td>\n",
       "      <td>1.0</td>\n",
       "      <td>2000</td>\n",
       "      <td>-17.7</td>\n",
       "      <td>0.0</td>\n",
       "      <td>0.0</td>\n",
       "      <td>0.0</td>\n",
       "      <td>3</td>\n",
       "      <td>1</td>\n",
       "      <td>1</td>\n",
       "    </tr>\n",
       "    <tr>\n",
       "      <th>3</th>\n",
       "      <td>11</td>\n",
       "      <td>3</td>\n",
       "      <td>-6.2</td>\n",
       "      <td>40</td>\n",
       "      <td>0.9</td>\n",
       "      <td>2000</td>\n",
       "      <td>-17.6</td>\n",
       "      <td>0.0</td>\n",
       "      <td>0.0</td>\n",
       "      <td>0.0</td>\n",
       "      <td>3</td>\n",
       "      <td>1</td>\n",
       "      <td>1</td>\n",
       "    </tr>\n",
       "    <tr>\n",
       "      <th>4</th>\n",
       "      <td>11</td>\n",
       "      <td>4</td>\n",
       "      <td>-6.0</td>\n",
       "      <td>36</td>\n",
       "      <td>2.3</td>\n",
       "      <td>2000</td>\n",
       "      <td>-18.6</td>\n",
       "      <td>0.0</td>\n",
       "      <td>0.0</td>\n",
       "      <td>0.0</td>\n",
       "      <td>3</td>\n",
       "      <td>1</td>\n",
       "      <td>1</td>\n",
       "    </tr>\n",
       "  </tbody>\n",
       "</table>\n",
       "</div>"
      ],
      "text/plain": [
       "   Date  Hour  Temperature(°C)  Humidity(%)  Wind speed (m/s)  \\\n",
       "0    11     0             -5.2           37               2.2   \n",
       "1    11     1             -5.5           38               0.8   \n",
       "2    11     2             -6.0           39               1.0   \n",
       "3    11     3             -6.2           40               0.9   \n",
       "4    11     4             -6.0           36               2.3   \n",
       "\n",
       "   Visibility (10m)  Dew point temperature(°C)  Solar Radiation (MJ/m2)  \\\n",
       "0              2000                      -17.6                      0.0   \n",
       "1              2000                      -17.6                      0.0   \n",
       "2              2000                      -17.7                      0.0   \n",
       "3              2000                      -17.6                      0.0   \n",
       "4              2000                      -18.6                      0.0   \n",
       "\n",
       "   Rainfall(mm)  Snowfall (cm)  Seasons  Holiday  Functioning Day  \n",
       "0           0.0            0.0        3        1                1  \n",
       "1           0.0            0.0        3        1                1  \n",
       "2           0.0            0.0        3        1                1  \n",
       "3           0.0            0.0        3        1                1  \n",
       "4           0.0            0.0        3        1                1  "
      ]
     },
     "execution_count": 10,
     "metadata": {},
     "output_type": "execute_result"
    }
   ],
   "source": [
    "X.head(5)"
   ]
  },
  {
   "cell_type": "code",
   "execution_count": 11,
   "id": "82eb7447",
   "metadata": {},
   "outputs": [],
   "source": [
    "#split data for train and test\n",
    "X_train, X_test, y_train, y_test = train_test_split(X, y, test_size=0.2,random_state=44, shuffle=True)"
   ]
  },
  {
   "cell_type": "markdown",
   "id": "9c61ec0f-a138-4096-8b9f-72d1ec6f8db0",
   "metadata": {
    "tags": []
   },
   "source": [
    "## Using base line"
   ]
  },
  {
   "cell_type": "code",
   "execution_count": 12,
   "id": "d236cffc-41c8-4674-9601-e0124a6acd22",
   "metadata": {},
   "outputs": [],
   "source": [
    "from sklearn.dummy import DummyRegressor"
   ]
  },
  {
   "cell_type": "code",
   "execution_count": 13,
   "id": "eee6f1d0-0880-4105-89cf-c07d8351221b",
   "metadata": {},
   "outputs": [
    {
     "data": {
      "text/plain": [
       "DummyRegressor()"
      ]
     },
     "execution_count": 13,
     "metadata": {},
     "output_type": "execute_result"
    }
   ],
   "source": [
    "dummy_regr = DummyRegressor(strategy=\"mean\")\n",
    "dummy_regr.fit(X_train, y_train)"
   ]
  },
  {
   "cell_type": "code",
   "execution_count": 14,
   "id": "aaf44b42-4f5e-4ba9-9240-9c19d3d1680f",
   "metadata": {},
   "outputs": [
    {
     "name": "stdout",
     "output_type": "stream",
     "text": [
      "mean square error on train set: 416294.4156070289\n",
      "mean square error on test set: 414728.310905626\n"
     ]
    }
   ],
   "source": [
    "pred_train_dummy = dummy_regr.predict(X_train)\n",
    "pred_test_dummy = dummy_regr.predict(X_test)\n",
    "print(f'mean square error on train set: {mean_squared_error(y_train, pred_train_dummy)}')\n",
    "print(f'mean square error on test set: {mean_squared_error(y_test, pred_test_dummy)}')"
   ]
  },
  {
   "cell_type": "code",
   "execution_count": 15,
   "id": "237fb5dd-5465-4d4a-8274-ceaed67b34a8",
   "metadata": {},
   "outputs": [
    {
     "data": {
      "image/png": "[encoded data removed]",
      "text/plain": [
       "<Figure size 432x288 with 1 Axes>"
      ]
     },
     "metadata": {
      "needs_background": "light"
     },
     "output_type": "display_data"
    }
   ],
   "source": [
    "plt.scatter(y_test,pred_test_dummy,color='black') \n",
    "x = np.linspace(50,3500,100)\n",
    "y=x\n",
    "plt.plot(x, y,color='blue')\n",
    "plt.ylim(20,3500)\n",
    "plt.xlim(20, 3500)\n",
    "plt.xlabel('Actual Rented Bike Count')\n",
    "plt.ylabel('Predict Rented Bike Count')\n",
    "plt.title('Baseline model')\n",
    "plt.show()"
   ]
  },
  {
   "cell_type": "code",
   "execution_count": 16,
   "id": "e35e47da",
   "metadata": {},
   "outputs": [],
   "source": [
    "#use cross validation for tuning hyper parameter\n",
    "from sklearn.model_selection import KFold\n",
    "kf = KFold(n_splits=5, random_state=44, shuffle=True)"
   ]
  },
  {
   "cell_type": "markdown",
   "id": "a23fe68f",
   "metadata": {
    "tags": []
   },
   "source": [
    "## using KNN"
   ]
  },
  {
   "cell_type": "code",
   "execution_count": 23,
   "id": "7683d0f8",
   "metadata": {},
   "outputs": [],
   "source": [
    "from sklearn.neighbors import KNeighborsRegressor"
   ]
  },
  {
   "cell_type": "code",
   "execution_count": 24,
   "id": "a74d36c8",
   "metadata": {},
   "outputs": [],
   "source": [
    "#tuning n only\n",
    "max_n = 20\n",
    "train_mse = [[] for _ in range(max_n)]\n",
    "val_mse = [[] for _ in range(max_n)]\n",
    "\n",
    "for n in range(max_n):\n",
    "    knn = KNeighborsRegressor(n_neighbors=n+1)\n",
    "    \n",
    "    #Loop over cross-validation splits\n",
    "    for train_index, val_index in kf.split(X_train):\n",
    "        Xtrain, Xval = X_train.values[train_index], X_train.values[val_index]\n",
    "        ytrain, yval = y_train.values[train_index], y_train.values[val_index]\n",
    "        \n",
    "        #Fit the classifier on Xtrain and Ytrain\n",
    "        knn.fit(Xtrain, ytrain)\n",
    "        \n",
    "        #Make predictions on Xtrain, Xval\n",
    "        pred_train = knn.predict(Xtrain)\n",
    "        pred_val = knn.predict(Xval)\n",
    "        \n",
    "        #Calculate the mse of the predictions\n",
    "        train_mse[n].append(mean_squared_error(ytrain, pred_train))\n",
    "        val_mse[n].append(mean_squared_error(yval, pred_val))"
   ]
  },
  {
   "cell_type": "code",
   "execution_count": 25,
   "id": "b8d15c26",
   "metadata": {},
   "outputs": [],
   "source": [
    "train_mse_mean = np.mean(train_mse, axis=1)\n",
    "val_mse_mean = np.mean(val_mse, axis=1)"
   ]
  },
  {
   "cell_type": "code",
   "execution_count": 26,
   "id": "96a527a8",
   "metadata": {},
   "outputs": [
    {
     "name": "stdout",
     "output_type": "stream",
     "text": [
      "min mse 242825.88 at n = 7\n"
     ]
    }
   ],
   "source": [
    "n = np.argmin(val_mse_mean)+1\n",
    "print(f'min mse validation{np.round(min(val_mse_mean),2)} at n = {n}')"
   ]
  },
  {
   "cell_type": "code",
   "execution_count": 27,
   "id": "34dfd271",
   "metadata": {},
   "outputs": [
    {
     "data": {
      "text/plain": [
       "<matplotlib.legend.Legend at 0x7f75eb6dd4c0>"
      ]
     },
     "execution_count": 27,
     "metadata": {},
     "output_type": "execute_result"
    },
    {
     "data": {
      "image/png": "[encoded data removed]",
      "text/plain": [
       "<Figure size 432x288 with 1 Axes>"
      ]
     },
     "metadata": {
      "needs_background": "light"
     },
     "output_type": "display_data"
    }
   ],
   "source": [
    "plt.figure()\n",
    "x = list(range(1,max_n+1))\n",
    "plt.plot(x,train_mse_mean, label = 'Training MSE')\n",
    "plt.plot(x,val_mse_mean, label = 'Validation MSE')\n",
    "plt.xlabel('N neighbour')\n",
    "plt.ylabel('Mean square error')\n",
    "plt.xticks(x)\n",
    "plt.legend()"
   ]
  },
  {
   "cell_type": "code",
   "execution_count": 28,
   "id": "3c4cb124-3f48-4368-9e71-dee93cba1d96",
   "metadata": {},
   "outputs": [
    {
     "name": "stdout",
     "output_type": "stream",
     "text": [
      "mse train uniform : 156972.2 , distance : 0.0\n",
      "mse validation uniform : 244186.01 , distance : 226660.54\n"
     ]
    }
   ],
   "source": [
    "#tuning weights only\n",
    "weights = ['uniform', 'distance']\n",
    "train_mse = [[] for _ in range(len(weights))]\n",
    "val_mse = [[] for _ in range(len(weights))]\n",
    "\n",
    "for n in range(len(weights)):\n",
    "    knn = KNeighborsRegressor(weights=weights[n])\n",
    "    \n",
    "    #Loop over cross-validation splits\n",
    "    for train_index, val_index in kf.split(X_train):\n",
    "        Xtrain, Xval = X_train.values[train_index], X_train.values[val_index]\n",
    "        ytrain, yval = y_train.values[train_index], y_train.values[val_index]\n",
    "        \n",
    "        #Fit the classifier on Xtrain and Ytrain\n",
    "        knn.fit(Xtrain, ytrain)\n",
    "        \n",
    "        #Make predictions on Xtrain, Xval\n",
    "        pred_train = knn.predict(Xtrain)\n",
    "        pred_val = knn.predict(Xval)\n",
    "        \n",
    "        #Calculate the mse of the predictions\n",
    "        train_mse[n].append(mean_squared_error(ytrain, pred_train))\n",
    "        val_mse[n].append(mean_squared_error(yval, pred_val))\n",
    "\n",
    "train_mse_mean = np.mean(train_mse, axis=1)\n",
    "val_mse_mean = np.mean(val_mse, axis=1)\n",
    "\n",
    "print(f'mse train uniform : {np.round(train_mse_mean[0],2)} , distance : {np.round(train_mse_mean[1],2)}')\n",
    "print(f'mse validation uniform : {np.round(val_mse_mean[0],2)} , distance : {np.round(val_mse_mean[1],2)}')"
   ]
  },
  {
   "cell_type": "code",
   "execution_count": 29,
   "id": "6dfa6515",
   "metadata": {},
   "outputs": [
    {
     "data": {
      "text/plain": [
       "{'n_neighbors': 7, 'weights': 'distance'}"
      ]
     },
     "execution_count": 29,
     "metadata": {},
     "output_type": "execute_result"
    }
   ],
   "source": [
    "#use grid search CV method\n",
    "from sklearn.model_selection import GridSearchCV\n",
    "n = np.arange(2,21,1)\n",
    "params = {'n_neighbors':n,\n",
    "          'weights':['uniform', 'distance']\n",
    "         }\n",
    "\n",
    "knn = KNeighborsRegressor()\n",
    "model = GridSearchCV(knn, params, cv=5)\n",
    "model.fit(X_train,y_train)\n",
    "model.best_params_"
   ]
  },
  {
   "cell_type": "code",
   "execution_count": 30,
   "id": "b2be4e54",
   "metadata": {},
   "outputs": [
    {
     "name": "stdout",
     "output_type": "stream",
     "text": [
      "mean square error on train set: 0.0\n",
      "mean square error on test set: 204664.94447940466\n"
     ]
    }
   ],
   "source": [
    "#test model on test set\n",
    "knn_optimal = KNeighborsRegressor(n_neighbors=7,weights='distance')\n",
    "knn_optimal.fit(X_train, y_train)\n",
    "pred_train = knn_optimal.predict(X_train)\n",
    "pred_test = knn_optimal.predict(X_test)\n",
    "print(f'mean square error on train set: {mean_squared_error(y_train, pred_train)}')\n",
    "print(f'mean square error on test set: {mean_squared_error(y_test, pred_test)}')"
   ]
  },
  {
   "cell_type": "code",
   "execution_count": 31,
   "id": "a26d4389-d2bd-41b8-93b3-028949f85f3a",
   "metadata": {},
   "outputs": [
    {
     "name": "stdout",
     "output_type": "stream",
     "text": [
      "r square on test set: 0.5063014794943843\n"
     ]
    }
   ],
   "source": [
    "print(f'r square on test set: {r2_score(y_test, pred_test)}')"
   ]
  },
  {
   "cell_type": "code",
   "execution_count": 32,
   "id": "96280ca1-8612-46b1-8697-2c42ffa4acd0",
   "metadata": {},
   "outputs": [
    {
     "data": {
      "image/png": "[encoded data removed]",
      "text/plain": [
       "<Figure size 432x288 with 1 Axes>"
      ]
     },
     "metadata": {
      "needs_background": "light"
     },
     "output_type": "display_data"
    }
   ],
   "source": [
    "plt.figure()\n",
    "plt.scatter(y_test,pred_test,color='black') \n",
    "x = np.linspace(50,3500,100)\n",
    "y=x\n",
    "plt.plot(x, y,color='blue')\n",
    "plt.ylim(20, 3500)\n",
    "plt.xlim(20, 3500)\n",
    "plt.xlabel('Actual Rented Bike Count')\n",
    "plt.ylabel('Predict Rented Bike Count')\n",
    "plt.title('Using kNN algorithm')\n",
    "plt.show()"
   ]
  },
  {
   "cell_type": "markdown",
   "id": "60cfd62d-3ffc-4ee9-98ef-420907c52170",
   "metadata": {
    "tags": []
   },
   "source": [
    "## using Decision Tree"
   ]
  },
  {
   "cell_type": "code",
   "execution_count": 33,
   "id": "92792b0b-6ac2-4da4-afd4-dfb3392e53ff",
   "metadata": {},
   "outputs": [],
   "source": [
    "from sklearn.tree import DecisionTreeRegressor"
   ]
  },
  {
   "cell_type": "markdown",
   "id": "075ec5f6-0072-458b-84c9-0d2662d45278",
   "metadata": {
    "tags": []
   },
   "source": [
    "### tuning hyper parameter max_depth"
   ]
  },
  {
   "cell_type": "code",
   "execution_count": 34,
   "id": "2ffa328b-2789-46a6-8cd3-e0a9abc0670c",
   "metadata": {},
   "outputs": [
    {
     "data": {
      "image/png": "[encoded data removed]",
      "text/plain": [
       "<Figure size 432x288 with 1 Axes>"
      ]
     },
     "metadata": {
      "needs_background": "light"
     },
     "output_type": "display_data"
    }
   ],
   "source": [
    "max_d = 20\n",
    "mean_trn_mses = []\n",
    "mean_val_mses = []\n",
    "for d in range(max_d):\n",
    "    trn_mses=[]\n",
    "    val_mses=[]\n",
    "    rtdb = DecisionTreeRegressor(max_depth=d+1)\n",
    "    for train_index, val_index in kf.split(X_train):\n",
    "        Xtrain, Xval = X_train.values[train_index], X_train.values[val_index]\n",
    "        ytrain, yval = y_train.values[train_index], y_train.values[val_index]\n",
    "        rtdb.fit(Xtrain, ytrain)\n",
    "        ytrn_pred = rtdb.predict(Xtrain)\n",
    "        yval_pred = rtdb.predict(Xval)\n",
    "        trn_mses.append(mean_squared_error(ytrain, ytrn_pred))\n",
    "        val_mses.append(mean_squared_error(yval, yval_pred))\n",
    "    mean_trn_mses.append(np.mean(trn_mses))\n",
    "    mean_val_mses.append(np.mean(val_mses))\n",
    "\n",
    "plt.plot(range(1, max_d+1), mean_trn_mses, label='Training Error')\n",
    "plt.plot(range(1, max_d+1), mean_val_mses, label='Validation Error')\n",
    "plt.xlabel('number of max_depth')\n",
    "plt.ylabel('Mean square error')\n",
    "plt.legend()\n",
    "plt.show()"
   ]
  },
  {
   "cell_type": "code",
   "execution_count": 35,
   "id": "c888d9d5-3f82-4583-a6dd-e3059f536479",
   "metadata": {},
   "outputs": [
    {
     "data": {
      "text/plain": [
       "10"
      ]
     },
     "execution_count": 35,
     "metadata": {},
     "output_type": "execute_result"
    }
   ],
   "source": [
    "d = np.argmin(mean_val_mses)+1\n",
    "d"
   ]
  },
  {
   "cell_type": "markdown",
   "id": "c663dd69-eb28-4935-acde-faf4d304223b",
   "metadata": {},
   "source": [
    "### tuning hyper parameter max_leaf_nodes"
   ]
  },
  {
   "cell_type": "code",
   "execution_count": 36,
   "id": "20fbf87e-40c7-4ee9-861d-c7475f7d2bf2",
   "metadata": {},
   "outputs": [
    {
     "data": {
      "image/png": "[encoded data removed]",
      "text/plain": [
       "<Figure size 432x288 with 1 Axes>"
      ]
     },
     "metadata": {
      "needs_background": "light"
     },
     "output_type": "display_data"
    }
   ],
   "source": [
    "max_l = 100\n",
    "mean_trn_mses = []\n",
    "mean_val_mses = []\n",
    "for l in range(1,max_l):\n",
    "    trn_mses=[]\n",
    "    val_mses=[]\n",
    "    rtdb = DecisionTreeRegressor(max_leaf_nodes=l+1)\n",
    "    for train_index, val_index in kf.split(X_train):\n",
    "        Xtrain, Xval = X_train.values[train_index], X_train.values[val_index]\n",
    "        ytrain, yval = y_train.values[train_index], y_train.values[val_index]\n",
    "        rtdb.fit(Xtrain, ytrain)\n",
    "        ytrn_pred = rtdb.predict(Xtrain)\n",
    "        yval_pred = rtdb.predict(Xval)\n",
    "        trn_mses.append(mean_squared_error(ytrain, ytrn_pred))\n",
    "        val_mses.append(mean_squared_error(yval, yval_pred))\n",
    "    mean_trn_mses.append(np.mean(trn_mses))\n",
    "    mean_val_mses.append(np.mean(val_mses))\n",
    "\n",
    "plt.plot(range(2, max_l+1), mean_trn_mses, label='Training Error')\n",
    "plt.plot(range(2, max_l+1), mean_val_mses, label='Validation Error')\n",
    "plt.xlabel('number of max_leaf_nodes')\n",
    "plt.ylabel('Mean square error')\n",
    "plt.legend()\n",
    "plt.show()"
   ]
  },
  {
   "cell_type": "markdown",
   "id": "3b156122-4485-4852-baed-7234587e74e7",
   "metadata": {},
   "source": [
    "### using grid search"
   ]
  },
  {
   "cell_type": "code",
   "execution_count": 40,
   "id": "9d00ef15-3591-4dbe-a67f-56edbacfbe8f",
   "metadata": {},
   "outputs": [
    {
     "data": {
      "text/plain": [
       "{'max_depth': 12, 'max_leaf_nodes': 49}"
      ]
     },
     "execution_count": 40,
     "metadata": {},
     "output_type": "execute_result"
    }
   ],
   "source": [
    "f = len(X_train.columns)\n",
    "params = {'max_depth':np.arange(1,21,1),\n",
    "          'max_leaf_nodes':np.arange(2,50,1)\n",
    "         }\n",
    "\n",
    "rtdb = DecisionTreeRegressor()\n",
    "model = GridSearchCV(rtdb, params, cv=5)\n",
    "model.fit(X_train,y_train)\n",
    "model.best_params_"
   ]
  },
  {
   "cell_type": "code",
   "execution_count": 41,
   "id": "33417f76-3846-4d96-a36b-577c2231628a",
   "metadata": {},
   "outputs": [
    {
     "name": "stdout",
     "output_type": "stream",
     "text": [
      "mean square error on train set: 73550.42430266776\n",
      "mean square error on test set: 81665.13157879388\n",
      "r square on test set: 0.8030050786669812\n"
     ]
    }
   ],
   "source": [
    "max_depth = model.best_params_['max_depth']\n",
    "max_leaf_nodes =  model.best_params_['max_leaf_nodes']\n",
    "rtdb_optimal = DecisionTreeRegressor(max_depth=max_depth ,\n",
    "                                     max_leaf_nodes= max_leaf_nodes)\n",
    "\n",
    "#test on test set\n",
    "rtdb_optimal.fit(X_train, y_train)\n",
    "pred_train = rtdb_optimal.predict(X_train)\n",
    "pred_test = rtdb_optimal.predict(X_test)\n",
    "print(f'mean square error on train set: {mean_squared_error(y_train, pred_train)}')\n",
    "print(f'mean square error on test set: {mean_squared_error(y_test, pred_test)}')\n",
    "print(f'r square on test set: {r2_score(y_test, pred_test)}')"
   ]
  },
  {
   "cell_type": "code",
   "execution_count": 42,
   "id": "071df899-420b-4ac7-8192-f20e4985d68b",
   "metadata": {},
   "outputs": [
    {
     "data": {
      "image/png": "[encoded data removed]",
      "text/plain": [
       "<Figure size 432x288 with 1 Axes>"
      ]
     },
     "metadata": {
      "needs_background": "light"
     },
     "output_type": "display_data"
    }
   ],
   "source": [
    "plt.figure()\n",
    "plt.scatter(y_test,pred_test,color='black') \n",
    "x = np.linspace(50,3500,100)\n",
    "y=x\n",
    "plt.plot(x, y,color='blue')\n",
    "plt.ylim(20, 3500)\n",
    "plt.xlim(20, 3500)\n",
    "plt.xlabel('Actual Rented Bike Count')\n",
    "plt.ylabel('Predict Rented Bike Count')\n",
    "plt.title('Using Decision Tree')\n",
    "plt.show()"
   ]
  },
  {
   "cell_type": "code",
   "execution_count": null,
   "id": "3559e93f-1894-41ec-bb7c-544812aad536",
   "metadata": {},
   "outputs": [],
   "source": []
  }
 ],
 "metadata": {
  "kernelspec": {
   "display_name": "Python 3 (ipykernel)",
   "language": "python",
   "name": "python3"
  },
  "language_info": {
   "codemirror_mode": {
    "name": "ipython",
    "version": 3
   },
   "file_extension": ".py",
   "mimetype": "text/x-python",
   "name": "python",
   "nbconvert_exporter": "python",
   "pygments_lexer": "ipython3",
   "version": "3.8.8"
  }
 },
 "nbformat": 4,
 "nbformat_minor": 5
}
